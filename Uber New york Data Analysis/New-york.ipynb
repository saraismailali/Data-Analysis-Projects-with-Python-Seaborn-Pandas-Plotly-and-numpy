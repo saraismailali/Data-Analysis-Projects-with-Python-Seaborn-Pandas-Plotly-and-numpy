{
 "cells": [
  {
   "cell_type": "code",
   "execution_count": 6,
   "metadata": {},
   "outputs": [],
   "source": [
    "import pandas as pd\n",
    "import numpy as np\n",
    "import seaborn as sns\n",
    "import matplotlib.pyplot as plt"
   ]
  },
  {
   "cell_type": "code",
   "execution_count": 7,
   "metadata": {},
   "outputs": [],
   "source": [
    "import os"
   ]
  },
  {
   "cell_type": "code",
   "execution_count": 9,
   "metadata": {},
   "outputs": [
    {
     "data": {
      "text/plain": [
       "['other-American_B01362.csv',\n",
       " 'other-Carmel_B00256.csv',\n",
       " 'other-Dial7_B00887.csv',\n",
       " 'other-Diplo_B01196.csv',\n",
       " 'other-Federal_02216.csv',\n",
       " 'other-FHV-services_jan-aug-2015.csv',\n",
       " 'other-Firstclass_B01536.csv',\n",
       " 'other-Highclass_B01717.csv',\n",
       " 'other-Lyft_B02510.csv',\n",
       " 'other-Prestige_B01338.csv',\n",
       " 'other-Skyline_B00111.csv',\n",
       " 'Uber-Jan-Feb-FOIL.csv',\n",
       " 'uber-raw-data-apr14.csv',\n",
       " 'uber-raw-data-aug14.csv',\n",
       " 'uber-raw-data-janjune-15.csv',\n",
       " 'uber-raw-data-janjune-15_sample.csv',\n",
       " 'uber-raw-data-jul14.csv',\n",
       " 'uber-raw-data-jun14.csv',\n",
       " 'uber-raw-data-may14.csv',\n",
       " 'uber-raw-data-sep14.csv']"
      ]
     },
     "execution_count": 9,
     "metadata": {},
     "output_type": "execute_result"
    }
   ],
   "source": [
    "os.listdir(r\"C:\\Users\\Lenovo\\Desktop\\Python projects\\Datasets\")"
   ]
  },
  {
   "cell_type": "code",
   "execution_count": 10,
   "metadata": {},
   "outputs": [],
   "source": [
    "uber_15= pd.read_csv(r\"C:\\Users\\Lenovo\\Desktop\\Python projects\\Datasets\\uber-raw-data-janjune-15_sample.csv\")"
   ]
  },
  {
   "cell_type": "code",
   "execution_count": 11,
   "metadata": {},
   "outputs": [
    {
     "data": {
      "text/plain": [
       "(100000, 4)"
      ]
     },
     "execution_count": 11,
     "metadata": {},
     "output_type": "execute_result"
    }
   ],
   "source": [
    "uber_15.shape"
   ]
  },
  {
   "cell_type": "code",
   "execution_count": 12,
   "metadata": {},
   "outputs": [
    {
     "data": {
      "text/plain": [
       "pandas.core.frame.DataFrame"
      ]
     },
     "execution_count": 12,
     "metadata": {},
     "output_type": "execute_result"
    }
   ],
   "source": [
    "type(uber_15)"
   ]
  },
  {
   "cell_type": "code",
   "execution_count": null,
   "metadata": {},
   "outputs": [],
   "source": [
    " "
   ]
  }
 ],
 "metadata": {
  "kernelspec": {
   "display_name": "Python 3",
   "language": "python",
   "name": "python3"
  },
  "language_info": {
   "codemirror_mode": {
    "name": "ipython",
    "version": 3
   },
   "file_extension": ".py",
   "mimetype": "text/x-python",
   "name": "python",
   "nbconvert_exporter": "python",
   "pygments_lexer": "ipython3",
   "version": "3.12.7"
  }
 },
 "nbformat": 4,
 "nbformat_minor": 2
}
